{
 "cells": [
  {
   "cell_type": "markdown",
   "id": "9f1c3edc-09ae-44ad-9080-7e8e684d0c12",
   "metadata": {},
   "source": [
    " # Лабораторная работа 1.1\n",
    " #### Цымбал Данила 05-004"
   ]
  },
  {
   "cell_type": "code",
   "execution_count": 2,
   "id": "2413c05c-a9ff-466d-83ec-bb1eb224759b",
   "metadata": {},
   "outputs": [],
   "source": [
    "from sage.all import *"
   ]
  },
  {
   "cell_type": "markdown",
   "id": "796b02d1-81c1-47db-a359-c2673c218a03",
   "metadata": {},
   "source": [
    " ### Упражнение 1.1"
   ]
  },
  {
   "cell_type": "code",
   "execution_count": 3,
   "id": "d24dba4a-cee7-4477-9ee6-ffc5d3d1258f",
   "metadata": {},
   "outputs": [],
   "source": [
    "# constants\n",
    "F = GF(2)"
   ]
  },
  {
   "cell_type": "code",
   "execution_count": 4,
   "id": "9ed567a3-feb1-4fa4-a773-ef26f374950c",
   "metadata": {},
   "outputs": [],
   "source": [
    "class utils:\n",
    "    def print_info_about_code(min_dist: int):\n",
    "        if min_dist % 2 == 1:\n",
    "            print(f'Код может исправить и обнаружить ошибок соответсвтенно: {((min_dist - 1) / 2 , min_dist - 1)}')\n",
    "        elif min_dist % 2 == 0:\n",
    "            print(f'Код может исправить и обнаружить ошибок соответсвтенно: {((min_dist / 2) - 1 , min_dist - 1)}')\n",
    "\n",
    "\n",
    "    # Функция для вывода членов смежного класса вектора v по подпространству C\n",
    "    def coset_list(C: LinearCode, v): \n",
    "        l=[]\n",
    "        v=vector(GF(2), v)\n",
    "        for x in C.list():\n",
    "            l.append(v + x)\n",
    "        return l\n",
    "\n",
    "    def print_all_cosets(code: LinearCode):\n",
    "        syndroms = codes.decoders.LinearCodeSyndromeDecoder(code).syndrome_table()\n",
    "\n",
    "        for s in syndroms:\n",
    "            print(\"Синдром: \", s)\n",
    "            print(\"Лидер класса: \", syndroms[s])\n",
    "            print(\"Члены смежного класса: \", utils.coset_list(code, syndroms[s]), \"\\n\")\n",
    "        "
   ]
  },
  {
   "cell_type": "code",
   "execution_count": 10,
   "id": "3215e8f7-25ff-481f-8e09-4c703ad51865",
   "metadata": {},
   "outputs": [
    {
     "name": "stdout",
     "output_type": "stream",
     "text": [
      "Vector space of degree 6 and dimension 3 over Finite Field of size 2\n",
      "Basis matrix:\n",
      "[1 0 0 1 1 0]\n",
      "[0 1 0 1 0 1]\n",
      "[0 0 1 0 1 1]\n",
      "min dist:  3\n"
     ]
    }
   ],
   "source": [
    "c = matrix(F,\n",
    "     [[0,0,0,0,0,0],\n",
    "     [1,0,0,1,1,0],\n",
    "     [0,1,0,1,0,1],\n",
    "     [0,0,1,0,1,1],\n",
    "     [1,0,1,1,0,1],\n",
    "     [0,1,1,1,1,0],\n",
    "     [1,1,0,0,1,1],\n",
    "     [1,1,1,0,0,0]])\n",
    "\n",
    "basis = c.image()\n",
    "print(basis)\n",
    "\n",
    "# linear code\n",
    "c = LinearCode(basis)\n",
    "\n",
    "print('min dist: ', c.minimum_distance())\n"
   ]
  },
  {
   "cell_type": "markdown",
   "id": "db267a96-2167-4280-afb0-5ab18774e591",
   "metadata": {},
   "source": [
    " ### Упражнение 1.2"
   ]
  },
  {
   "cell_type": "code",
   "execution_count": 5,
   "id": "2d3a9d78-a286-4fd3-8726-a9b4e3503bf0",
   "metadata": {},
   "outputs": [
    {
     "name": "stdout",
     "output_type": "stream",
     "text": [
      "[1 0 0 1]\n",
      "[0 1 0 1]\n",
      "[0 0 1 1]\n",
      "min dist: 2\n",
      "Код может исправить и обнаружить ошибок соответсвтенно: (0, 1)\n",
      "Синдром:  (0)\n",
      "Лидер класса:  (0, 0, 0, 0)\n",
      "Члены смежного класса:  [(0, 0, 0, 0), (1, 1, 0, 0), (1, 0, 1, 0), (0, 1, 1, 0), (1, 0, 0, 1), (0, 1, 0, 1), (0, 0, 1, 1), (1, 1, 1, 1)] \n",
      "\n",
      "Синдром:  (1)\n",
      "Лидер класса:  (1, 0, 0, 0)\n",
      "Члены смежного класса:  [(1, 0, 0, 0), (0, 1, 0, 0), (0, 0, 1, 0), (1, 1, 1, 0), (0, 0, 0, 1), (1, 1, 0, 1), (1, 0, 1, 1), (0, 1, 1, 1)] \n",
      "\n",
      "C [4, 3] linear code over GF(2)\n",
      "decode to code: (0, 1, 1, 0)\n",
      "decode to message: (1, 1, 0)\n"
     ]
    }
   ],
   "source": [
    "checking_matrix = matrix(F, [[1,1,1,1]])\n",
    "\n",
    "\n",
    "# code.pdf 8 page\n",
    "G = matrix(F, [[1,1,0,0],\n",
    "               [1,0,1,0],\n",
    "               [1,0,0,1]])\n",
    "\n",
    "c = LinearCode(G)\n",
    "\n",
    "print(c.systematic_generator_matrix())\n",
    "\n",
    "min_dist = c.minimum_distance()\n",
    "print('min dist:', min_dist)\n",
    "\n",
    "# todo: smth wrong?\n",
    "utils.print_info_about_code(min_dist)\n",
    "utils.print_all_cosets(c)\n",
    "\n",
    "print('C', c)\n",
    "\n",
    "# decoding\n",
    "\n",
    "# todo: wrong??\n",
    "msg = vector(F, [1,1,1,0])\n",
    "\n",
    "decoder = c.decoder()\n",
    "\n",
    "print('decode to code:', decoder.decode_to_code(msg))\n",
    "print('decode to message:', decoder.decode_to_message(msg))\n",
    "\n"
   ]
  },
  {
   "cell_type": "markdown",
   "id": "e9ac033e-6107-443c-ac89-e773252ac932",
   "metadata": {},
   "source": [
    " ### Упражнение 1.3"
   ]
  },
  {
   "cell_type": "code",
   "execution_count": 47,
   "id": "c4588a63-ede9-4039-aa8a-cff97cf44286",
   "metadata": {},
   "outputs": [
    {
     "name": "stdout",
     "output_type": "stream",
     "text": [
      "generator matrix\n",
      "[1 0 0 1 0 0]\n",
      "[0 1 0 0 1 1]\n",
      "[0 0 1 0 1 0]\n",
      "\n",
      "checking matrix\n",
      "[1 0 0 1 0 0]\n",
      "[0 1 0 0 0 1]\n",
      "[0 0 1 0 1 1]\n"
     ]
    }
   ],
   "source": [
    "c = matrix(F,\n",
    "           [[0,0,0,0,0,0],\n",
    "            [1,0,1,1,1,0],\n",
    "            [0,0,1,0,1,0],\n",
    "            [1,1,0,1,1,1],\n",
    "            [1,0,0,1,0,0],\n",
    "            [0,1,1,0,0,1],\n",
    "            [1,1,1,1,0,1],\n",
    "            [0,1,0,0,1,1]])\n",
    "\n",
    "basis = c.image()\n",
    "\n",
    "# linear code\n",
    "c = LinearCode(basis)\n",
    "\n",
    "print('generator matrix')\n",
    "print(c.generator_matrix())\n",
    "\n",
    "print('\\nchecking matrix')\n",
    "print(c.parity_check_matrix())"
   ]
  },
  {
   "cell_type": "markdown",
   "id": "f5e616e8-8225-4e9a-aba1-8959fc246a86",
   "metadata": {},
   "source": [
    " ### Упражнение 1.4"
   ]
  },
  {
   "cell_type": "code",
   "execution_count": 63,
   "id": "00319a48-6401-4c32-a313-d1c6e17b5d83",
   "metadata": {},
   "outputs": [
    {
     "name": "stdout",
     "output_type": "stream",
     "text": [
      "elems\n",
      "[(0, 0, 0, 0), (0, 1, 1, 0), (1, 1, 0, 1), (1, 0, 1, 1)]\n",
      "\n",
      "checking matrix\n",
      "[1 0 0 1]\n",
      "[0 1 1 1]\n",
      "\n",
      "Синдром:  (0, 0)\n",
      "Лидер класса:  (0, 0, 0, 0)\n",
      "Члены смежного класса:  [(0, 0, 0, 0), (0, 1, 1, 0), (1, 1, 0, 1), (1, 0, 1, 1)] \n",
      "\n",
      "Синдром:  (1, 0)\n",
      "Лидер класса:  (1, 0, 0, 0)\n",
      "Члены смежного класса:  [(1, 0, 0, 0), (1, 1, 1, 0), (0, 1, 0, 1), (0, 0, 1, 1)] \n",
      "\n",
      "Синдром:  (0, 1)\n",
      "Лидер класса:  (0, 1, 0, 0)\n",
      "Члены смежного класса:  [(0, 1, 0, 0), (0, 0, 1, 0), (1, 0, 0, 1), (1, 1, 1, 1)] \n",
      "\n",
      "Синдром:  (1, 1)\n",
      "Лидер класса:  (0, 0, 0, 1)\n",
      "Члены смежного класса:  [(0, 0, 0, 1), (0, 1, 1, 1), (1, 1, 0, 0), (1, 0, 1, 0)] \n",
      "\n",
      "min dist: 2 \n",
      "\n",
      "Код может исправить и обнаружить ошибок соответсвтенно: (0, 1)\n",
      "V1: (1, 1, 1, 1)\n",
      "decode to code: (1, 0, 1, 1)\n",
      "decode to message: (1, 1) \n",
      "\n",
      "V2: (0, 1, 0, 1)\n",
      "decode to code: (1, 1, 0, 1)\n",
      "decode to message: (0, 1)\n"
     ]
    }
   ],
   "source": [
    "g = matrix(F, [[0,1,1,0],\n",
    "               [1,1,0,1]])\n",
    "\n",
    "c = LinearCode(g)\n",
    "\n",
    "print('elems')\n",
    "print(c.list())\n",
    "\n",
    "print('\\nchecking matrix')\n",
    "print(c.parity_check_matrix())\n",
    "\n",
    "print()\n",
    "utils.print_all_cosets(c)\n",
    "\n",
    "min_dist = c.minimum_distance()\n",
    "print('min dist:', min_dist, '\\n')\n",
    "\n",
    "# todo: wrong?\n",
    "utils.print_info_about_code(min_dist)\n",
    "\n",
    "# decoding\n",
    "# todo: do it also by youself (matrix mult)\n",
    "\n",
    "v1 = vector(F, [1,1,1,1])\n",
    "v2 = vector(F, [0,1,0,1])\n",
    "\n",
    "decoder = c.decoder()\n",
    "\n",
    "\n",
    "print('V1:', v1)\n",
    "print('decode to code:', decoder.decode_to_code(v1))\n",
    "print('decode to message:', decoder.decode_to_message(v1), '\\n')\n",
    "\n",
    "print('V2:',v2)\n",
    "print('decode to code:', decoder.decode_to_code(v2))\n",
    "print('decode to message:', decoder.decode_to_message(v2))"
   ]
  },
  {
   "cell_type": "markdown",
   "id": "3e89b002-d8c4-49c2-b4c7-68b807009f13",
   "metadata": {},
   "source": [
    " ### Упражнение 1.5"
   ]
  },
  {
   "cell_type": "code",
   "execution_count": 62,
   "id": "f487e4d5-ce17-4122-988b-b38d7bd5c15c",
   "metadata": {},
   "outputs": [
    {
     "name": "stdout",
     "output_type": "stream",
     "text": [
      "checking matrix\n",
      "[1 0 0 1 1]\n",
      "[0 1 0 0 1]\n",
      "[0 0 1 1 1]\n",
      "min dist: 3 \n",
      "\n",
      "Код может исправить и обнаружить ошибок соответсвтенно: (1, 2)\n",
      "V1: (1, 1, 1, 1, 1)\n",
      "decode to code: (1, 1, 1, 0, 1)\n",
      "decode to message: (1, 1) \n",
      "\n",
      "V2: (0, 1, 0, 1, 1)\n",
      "decode to code: (0, 1, 0, 1, 1)\n",
      "decode to message: (0, 1)\n"
     ]
    }
   ],
   "source": [
    "g = matrix(F, [[1,0,1,1,0],\n",
    "               [0,1,0,1,1]])\n",
    "\n",
    "c = LinearCode(g)\n",
    "\n",
    "print('checking matrix')\n",
    "print(c.parity_check_matrix())\n",
    "\n",
    "min_dist = c.minimum_distance()\n",
    "print('min dist:', min_dist, '\\n')\n",
    "\n",
    "# todo: wrong?\n",
    "utils.print_info_about_code(min_dist)\n",
    "\n",
    "# decoding\n",
    "\n",
    "v1 = vector(F, [1,1,1,1,1])\n",
    "v2 = vector(F, [0,1,0,1,1])\n",
    "\n",
    "decoder = c.decoder()\n",
    "\n",
    "\n",
    "print('V1:', v1)\n",
    "print('decode to code:', decoder.decode_to_code(v1))\n",
    "print('decode to message:', decoder.decode_to_message(v1), '\\n')\n",
    "\n",
    "print('V2:',v2)\n",
    "print('decode to code:', decoder.decode_to_code(v2))\n",
    "print('decode to message:', decoder.decode_to_message(v2))"
   ]
  },
  {
   "cell_type": "markdown",
   "id": "e12f65a7-c0a0-481e-9865-9728b0142cc9",
   "metadata": {},
   "source": [
    " ### Упражнение 1.6"
   ]
  },
  {
   "cell_type": "markdown",
   "id": "349d9d83-e8db-43ba-ae89-3e2ac58177f9",
   "metadata": {},
   "source": [
    "##### 1)"
   ]
  },
  {
   "cell_type": "code",
   "execution_count": 10,
   "id": "a5525bfc-44cf-4bd0-934d-f939dcc2a601",
   "metadata": {},
   "outputs": [
    {
     "name": "stdout",
     "output_type": "stream",
     "text": [
      "Vector space of degree 5 and dimension 3 over Finite Field of size 2\n",
      "Basis matrix:\n",
      "[1 0 1 0 1]\n",
      "[0 1 1 0 1]\n",
      "[0 0 0 1 1]\n",
      "Код может исправить и обнаружить ошибок соответсвтенно: (0, 1)\n"
     ]
    }
   ],
   "source": [
    "v = matrix(F, [[1,1,0,0,0], [1,0,1,0,1], [0,1,1,1,0]])\n",
    "\n",
    "basis = v.image()\n",
    "print(basis)\n",
    "\n",
    "c = LinearCode(basis)\n",
    "utils.print_info_about_code(c.minimum_distance())\n"
   ]
  },
  {
   "cell_type": "markdown",
   "id": "ea04104f-c2b7-4629-8fd8-72828fcb4a8b",
   "metadata": {},
   "source": [
    "##### 2)"
   ]
  },
  {
   "cell_type": "code",
   "execution_count": 12,
   "id": "f5074308-d2a7-4f0e-8b67-5d25684f722f",
   "metadata": {},
   "outputs": [
    {
     "name": "stdout",
     "output_type": "stream",
     "text": [
      "Vector space of degree 6 and dimension 2 over Finite Field of size 2\n",
      "Basis matrix:\n",
      "[1 1 0 0 1 1]\n",
      "[0 0 1 1 1 1]\n",
      "Код может исправить и обнаружить ошибок соответсвтенно: (1, 3)\n"
     ]
    }
   ],
   "source": [
    "v = matrix(F, [[1,1,1,1,0,0], [1,1,0,0,1,1], [0,0,1,1,1,1]])\n",
    "\n",
    "basis = v.image()\n",
    "print(basis)\n",
    "\n",
    "c = LinearCode(basis)\n",
    "utils.print_info_about_code(c.minimum_distance())"
   ]
  },
  {
   "cell_type": "markdown",
   "id": "c07bd71f-3f0f-4ce3-86b1-ad92cf4e3d02",
   "metadata": {},
   "source": [
    " ### Упражнение 1.7"
   ]
  },
  {
   "cell_type": "code",
   "execution_count": 20,
   "id": "0d28f288-7137-46e1-b896-23bccf54d2f9",
   "metadata": {},
   "outputs": [
    {
     "name": "stdout",
     "output_type": "stream",
     "text": [
      "[(0, 0, 1, 0, 0), (0, 0, 0, 1, 0), (1, 0, 1, 1, 0), (0, 1, 1, 1, 0), (0, 0, 0, 0, 1), (1, 0, 1, 0, 1), (0, 1, 1, 0, 1), (1, 0, 0, 1, 1), (0, 1, 0, 1, 1), (1, 1, 1, 1, 1)]\n"
     ]
    }
   ],
   "source": [
    "import numpy as np\n",
    "\n",
    "g = matrix(F, np.identity(5))\n",
    "\n",
    "c = LinearCode(g)\n",
    "\n",
    "w = vector(F, [1,1,0,0,0])\n",
    "\n",
    "words = []\n",
    "\n",
    "for word in c:\n",
    "    if (w - word).hamming_weight() == 3:\n",
    "        words.append(word)\n",
    "\n",
    "print(words)\n"
   ]
  },
  {
   "cell_type": "markdown",
   "id": "5a11e056-3d8c-49db-8952-3c824a0baea9",
   "metadata": {},
   "source": [
    " ### Упражнение 1.8"
   ]
  },
  {
   "cell_type": "code",
   "execution_count": 28,
   "id": "6cad8df5-57b6-4720-88fd-6933d9a7b61e",
   "metadata": {},
   "outputs": [
    {
     "name": "stdout",
     "output_type": "stream",
     "text": [
      "code dist: 3\n",
      "Код может исправить и обнаружить ошибок соответсвтенно: (1, 2)\n",
      "\n",
      "canonical matrix\n",
      "[1 0 0 1 1 0]\n",
      "[0 1 0 1 0 1]\n",
      "[0 0 1 0 1 1]\n",
      "\n",
      "V1: (1, 1, 1, 1, 0, 0)\n",
      "decode to code: (1, 1, 1, 0, 0, 0)\n",
      "decode to message: (1, 1, 1) \n",
      "\n",
      "V2: (1, 1, 1, 0, 1, 1)\n",
      "decode to code: (1, 1, 0, 0, 1, 1)\n",
      "decode to message: (1, 1, 0)\n"
     ]
    }
   ],
   "source": [
    "g = matrix(F, [[1,0,0,1,1,0], [0,1,0,1,0,1], [0,0,1,0,1,1]])\n",
    "\n",
    "c = LinearCode(g)\n",
    "\n",
    "print('code dist:', c.minimum_distance())\n",
    "\n",
    "utils.print_info_about_code(c.minimum_distance())\n",
    "\n",
    "print('\\ncanonical matrix')\n",
    "print(c.systematic_generator_matrix())\n",
    "\n",
    "# decoding\n",
    "# todo: do it also by youself (matrix mult)\n",
    "\n",
    "v1 = vector(F, [1,1,1,1,0,0])\n",
    "v2 = vector(F, [1,1,1,0,1,1])\n",
    "\n",
    "decoder = c.decoder()\n",
    "\n",
    "\n",
    "print('\\nV1:', v1)\n",
    "print('decode to code:', decoder.decode_to_code(v1))\n",
    "print('decode to message:', decoder.decode_to_message(v1), '\\n')\n",
    "\n",
    "print('V2:',v2)\n",
    "print('decode to code:', decoder.decode_to_code(v2))\n",
    "print('decode to message:', decoder.decode_to_message(v2))"
   ]
  },
  {
   "cell_type": "markdown",
   "id": "79f43757-e218-411f-8afe-4a00975d9f1e",
   "metadata": {},
   "source": [
    " ### Упражнение 1.9"
   ]
  },
  {
   "cell_type": "code",
   "execution_count": 33,
   "id": "a9bfabe4-a1d3-45e3-82ca-46a5518c2349",
   "metadata": {},
   "outputs": [
    {
     "name": "stdout",
     "output_type": "stream",
     "text": [
      "code elems: [(0, 0, 0), (1, 0, 1), (0, 1, 1), (1, 1, 0)]\n",
      "code dist: 2\n",
      "Код может исправить и обнаружить ошибок соответсвтенно: (0, 1)\n"
     ]
    }
   ],
   "source": [
    "g = matrix(F, [[1,0,1],[0,1,1]])\n",
    "\n",
    "c = LinearCode(g)\n",
    "\n",
    "print('code elems:', c.list())\n",
    "\n",
    "min_dist = c.minimum_distance()\n",
    "\n",
    "print('code dist:', min_dist)\n",
    "utils.print_info_about_code(min_dist)"
   ]
  },
  {
   "cell_type": "markdown",
   "id": "8cea633a-ed45-4c20-a805-76a8da858e89",
   "metadata": {},
   "source": [
    " ### Упражнение 1.10"
   ]
  },
  {
   "cell_type": "code",
   "execution_count": 34,
   "id": "7c130fd2-55e0-4943-af5b-2ecda77121cd",
   "metadata": {},
   "outputs": [
    {
     "name": "stdout",
     "output_type": "stream",
     "text": [
      "code elems: [(0, 0, 0, 0, 0), (1, 0, 1, 1, 0), (0, 1, 0, 1, 1), (1, 1, 1, 0, 1)]\n",
      "code dist: 3\n",
      "Код может исправить и обнаружить ошибок соответсвтенно: (1, 2)\n"
     ]
    }
   ],
   "source": [
    "g = matrix(F, [[1,0,1,1,0],[0,1,0,1,1]])\n",
    "\n",
    "c = LinearCode(g)\n",
    "\n",
    "print('code elems:', c.list())\n",
    "\n",
    "min_dist = c.minimum_distance()\n",
    "\n",
    "print('code dist:', min_dist)\n",
    "utils.print_info_about_code(min_dist)"
   ]
  },
  {
   "cell_type": "code",
   "execution_count": null,
   "id": "9f6999ad-ed15-489a-90b2-e47409b366dc",
   "metadata": {},
   "outputs": [],
   "source": []
  }
 ],
 "metadata": {
  "kernelspec": {
   "display_name": "SageMath 10.1",
   "language": "sage",
   "name": "sagemath"
  },
  "language_info": {
   "codemirror_mode": {
    "name": "ipython",
    "version": 3
   },
   "file_extension": ".py",
   "mimetype": "text/x-python",
   "name": "python",
   "nbconvert_exporter": "python",
   "pygments_lexer": "ipython3",
   "version": "3.11.5"
  }
 },
 "nbformat": 4,
 "nbformat_minor": 5
}

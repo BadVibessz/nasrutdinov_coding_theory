{
 "cells": [
  {
   "cell_type": "markdown",
   "id": "adce75fd-9e37-43c3-b4ea-c8de5f6afce2",
   "metadata": {},
   "source": [
    " # Лабораторная работа 2\n",
    " #### Цымбал Данила 05-004"
   ]
  },
  {
   "cell_type": "code",
   "execution_count": 1,
   "id": "d8573f39-7365-4db2-859c-1c8a9c91e15f",
   "metadata": {},
   "outputs": [],
   "source": [
    "from sage.all import *"
   ]
  },
  {
   "cell_type": "code",
   "execution_count": 101,
   "id": "897db2d1-5d32-417b-8db4-85cb558ce70f",
   "metadata": {},
   "outputs": [],
   "source": [
    "class utils:\n",
    "    def get_all_gen_polynomails(R, I) -> []:\n",
    "\n",
    "        fact = list(I.factor())\n",
    "\n",
    "        res = []\n",
    "        \n",
    "        for i in range(1, len(fact) + 1):\n",
    "           res.append(list(itertools.combinations(fact, i)))\n",
    "\n",
    "        return res\n",
    "\n",
    "    def is_gen_polynomail(f, g):\n",
    "        return ((f / g).denominator() == 1)\n",
    "\n",
    "\n",
    "    def get_gen_matrix(g, mod, n):\n",
    "\n",
    "        r = g.degree()\n",
    "        coeffs = g.coefficients(sparse=false)\n",
    "\n",
    "        matr = []\n",
    "        offset = 0\n",
    "        for i in range(n - r):\n",
    "\n",
    "            row = [0] * offset\n",
    "            row.extend(coeffs)\n",
    "            row.extend([0] * (n - r - 1 - offset))\n",
    "\n",
    "            \n",
    "            matr.append(row)\n",
    "            offset += 1\n",
    "\n",
    "        return matr\n",
    "\n",
    "    def get_bch_code(q, m , t):\n",
    "        F = GF(q)\n",
    "        E.<a> = GF(q^m)\n",
    "\n",
    "        #Длина блока n\n",
    "        n = q ^ m - 1\n",
    "\n",
    "        #Для работы с полиномами над полем F\n",
    "        R.<x> = PolynomialRing(F, 'x') \n",
    "\n",
    "        #НОК минимальных многочленов для степеней примитивного элемента\n",
    "        g = lcm([s.minimal_polynomial() for s in [a ^ k for k in range(1, 2 * t + 1)]])\n",
    "\n",
    "        return codes.CyclicCode(generator_pol = g, length = q ^ m - 1)\n",
    "\n",
    "        \n"
   ]
  },
  {
   "cell_type": "markdown",
   "id": "c4ceff99-e62a-46b3-b6e1-89b0f9ef006e",
   "metadata": {},
   "source": [
    " ### Упражнение 2.1"
   ]
  },
  {
   "cell_type": "code",
   "execution_count": 103,
   "id": "ba0a1a80-54e4-4262-a71f-1833e16039a8",
   "metadata": {},
   "outputs": [
    {
     "name": "stdout",
     "output_type": "stream",
     "text": [
      "A)\n",
      "[1 0 0 1 0 1 1 0 0 1 1 1 1 1 0 0 0 1 1 0 1 1 1 0 1 0 1 0 0 0 0]\n",
      "[0 1 0 0 1 0 1 1 0 0 1 1 1 1 1 0 0 0 1 1 0 1 1 1 0 1 0 1 0 0 0]\n",
      "[0 0 1 0 0 1 0 1 1 0 0 1 1 1 1 1 0 0 0 1 1 0 1 1 1 0 1 0 1 0 0]\n",
      "[0 0 0 1 0 0 1 0 1 1 0 0 1 1 1 1 1 0 0 0 1 1 0 1 1 1 0 1 0 1 0]\n",
      "[0 0 0 0 1 0 0 1 0 1 1 0 0 1 1 1 1 1 0 0 0 1 1 0 1 1 1 0 1 0 1]\n",
      "\n",
      "B)\n",
      "[1 1 0 1 0 1 0 1 1 1 1 0 0 1 0 0 1 0 1 0 0 1 0 0 0 0 0 0 0 0 0]\n",
      "[0 1 1 0 1 0 1 0 1 1 1 1 0 0 1 0 0 1 0 1 0 0 1 0 0 0 0 0 0 0 0]\n",
      "[0 0 1 1 0 1 0 1 0 1 1 1 1 0 0 1 0 0 1 0 1 0 0 1 0 0 0 0 0 0 0]\n",
      "[0 0 0 1 1 0 1 0 1 0 1 1 1 1 0 0 1 0 0 1 0 1 0 0 1 0 0 0 0 0 0]\n",
      "[0 0 0 0 1 1 0 1 0 1 0 1 1 1 1 0 0 1 0 0 1 0 1 0 0 1 0 0 0 0 0]\n",
      "[0 0 0 0 0 1 1 0 1 0 1 0 1 1 1 1 0 0 1 0 0 1 0 1 0 0 1 0 0 0 0]\n",
      "[0 0 0 0 0 0 1 1 0 1 0 1 0 1 1 1 1 0 0 1 0 0 1 0 1 0 0 1 0 0 0]\n",
      "[0 0 0 0 0 0 0 1 1 0 1 0 1 0 1 1 1 1 0 0 1 0 0 1 0 1 0 0 1 0 0]\n",
      "[0 0 0 0 0 0 0 0 1 1 0 1 0 1 0 1 1 1 1 0 0 1 0 0 1 0 1 0 0 1 0]\n",
      "[0 0 0 0 0 0 0 0 0 1 1 0 1 0 1 0 1 1 1 1 0 0 1 0 0 1 0 1 0 0 1]\n",
      "\n",
      "C)\n",
      "[1 0 0 0 1 1 1 1 0 0 0 0 1 0 0 1 1 0 0 0 0 0 0 0 0 0 0 0 0 0 0]\n",
      "[0 1 0 0 0 1 1 1 1 0 0 0 0 1 0 0 1 1 0 0 0 0 0 0 0 0 0 0 0 0 0]\n",
      "[0 0 1 0 0 0 1 1 1 1 0 0 0 0 1 0 0 1 1 0 0 0 0 0 0 0 0 0 0 0 0]\n",
      "[0 0 0 1 0 0 0 1 1 1 1 0 0 0 0 1 0 0 1 1 0 0 0 0 0 0 0 0 0 0 0]\n",
      "[0 0 0 0 1 0 0 0 1 1 1 1 0 0 0 0 1 0 0 1 1 0 0 0 0 0 0 0 0 0 0]\n",
      "[0 0 0 0 0 1 0 0 0 1 1 1 1 0 0 0 0 1 0 0 1 1 0 0 0 0 0 0 0 0 0]\n",
      "[0 0 0 0 0 0 1 0 0 0 1 1 1 1 0 0 0 0 1 0 0 1 1 0 0 0 0 0 0 0 0]\n",
      "[0 0 0 0 0 0 0 1 0 0 0 1 1 1 1 0 0 0 0 1 0 0 1 1 0 0 0 0 0 0 0]\n",
      "[0 0 0 0 0 0 0 0 1 0 0 0 1 1 1 1 0 0 0 0 1 0 0 1 1 0 0 0 0 0 0]\n",
      "[0 0 0 0 0 0 0 0 0 1 0 0 0 1 1 1 1 0 0 0 0 1 0 0 1 1 0 0 0 0 0]\n",
      "[0 0 0 0 0 0 0 0 0 0 1 0 0 0 1 1 1 1 0 0 0 0 1 0 0 1 1 0 0 0 0]\n",
      "[0 0 0 0 0 0 0 0 0 0 0 1 0 0 0 1 1 1 1 0 0 0 0 1 0 0 1 1 0 0 0]\n",
      "[0 0 0 0 0 0 0 0 0 0 0 0 1 0 0 0 1 1 1 1 0 0 0 0 1 0 0 1 1 0 0]\n",
      "[0 0 0 0 0 0 0 0 0 0 0 0 0 1 0 0 0 1 1 1 1 0 0 0 0 1 0 0 1 1 0]\n",
      "[0 0 0 0 0 0 0 0 0 0 0 0 0 0 1 0 0 0 1 1 1 1 0 0 0 0 1 0 0 1 1]\n"
     ]
    }
   ],
   "source": [
    "m = 5\n",
    "q = 2\n",
    "\n",
    "print('A)')\n",
    "print(utils.get_bch_code(q, m, 1).parity_check_matrix())\n",
    "\n",
    "print('\\nB)')\n",
    "print(utils.get_bch_code(q, m, 2).parity_check_matrix())\n",
    "\n",
    "print('\\nC)')\n",
    "print(utils.get_bch_code(q, m, 3).parity_check_matrix())\n"
   ]
  },
  {
   "cell_type": "markdown",
   "id": "a420dcca-bf41-48e1-8c55-ea73e64f33d3",
   "metadata": {},
   "source": [
    " ### Упражнение 2.2"
   ]
  },
  {
   "cell_type": "code",
   "execution_count": 95,
   "id": "028bf74b-e824-4112-a42f-230e69dc037b",
   "metadata": {},
   "outputs": [
    {
     "name": "stdout",
     "output_type": "stream",
     "text": [
      "A)\n",
      "all gen polynomials of cylcic code with length = 7:\n",
      "g(x) = x + 1\n",
      "g(x) = x^3 + x + 1\n",
      "g(x) = x^3 + x^2 + 1\n",
      "g(x) = x^4 + x^3 + x^2 + 1\n",
      "g(x) = x^4 + x^2 + x + 1\n",
      "g(x) = x^6 + x^5 + x^4 + x^3 + x^2 + x + 1\n",
      "g(x) = x^7 + 1\n",
      "\n",
      "B)\n",
      "False\n",
      "\n",
      "C)\n",
      "[[1, 1, 0, 0, 0, 0, 0], [0, 1, 1, 0, 0, 0, 0], [0, 0, 1, 1, 0, 0, 0], [0, 0, 0, 1, 1, 0, 0], [0, 0, 0, 0, 1, 1, 0], [0, 0, 0, 0, 0, 1, 1]]\n"
     ]
    }
   ],
   "source": [
    "import itertools\n",
    "\n",
    "R = PolynomialRing(GF(2), 'x')\n",
    "x = R.gen()\n",
    "\n",
    "f = x^7 - 1\n",
    "\n",
    "combinations = utils.get_all_gen_polynomails(R, f)\n",
    "\n",
    "print('A)')\n",
    "print(f'all gen polynomials of cylcic code with length = {7}:')\n",
    "\n",
    "for comb in combinations:\n",
    "    for g in comb:\n",
    "        polyn = 1\n",
    "        for i in range(len(g)):\n",
    "            polyn *= g[i][0]\n",
    "        \n",
    "        print(f'g(x) = {polyn}')\n",
    "\n",
    "print('\\nB)')\n",
    "print(utils.is_gen_polynomail(f, 1 + x^3 + x^4))\n",
    "\n",
    "print('\\nC)')\n",
    "print(utils.get_gen_matrix(1 + x,f, 7))\n",
    "    "
   ]
  },
  {
   "cell_type": "code",
   "execution_count": null,
   "id": "c2932cde-f0ab-4355-81a4-2791364577dc",
   "metadata": {},
   "outputs": [],
   "source": []
  },
  {
   "cell_type": "code",
   "execution_count": null,
   "id": "014d37c7-8d6a-4d83-bcd8-d5db0647ac55",
   "metadata": {},
   "outputs": [],
   "source": []
  }
 ],
 "metadata": {
  "kernelspec": {
   "display_name": "SageMath 10.1",
   "language": "sage",
   "name": "sagemath"
  },
  "language_info": {
   "codemirror_mode": {
    "name": "ipython",
    "version": 3
   },
   "file_extension": ".py",
   "mimetype": "text/x-python",
   "name": "python",
   "nbconvert_exporter": "python",
   "pygments_lexer": "ipython3",
   "version": "3.11.5"
  }
 },
 "nbformat": 4,
 "nbformat_minor": 5
}

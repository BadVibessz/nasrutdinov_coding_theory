{
 "cells": [
  {
   "cell_type": "markdown",
   "id": "adce75fd-9e37-43c3-b4ea-c8de5f6afce2",
   "metadata": {},
   "source": [
    " # Лабораторная работа 2\n",
    " #### Цымбал Данила 05-004"
   ]
  },
  {
   "cell_type": "code",
   "execution_count": 1,
   "id": "d8573f39-7365-4db2-859c-1c8a9c91e15f",
   "metadata": {},
   "outputs": [],
   "source": [
    "from sage.all import *"
   ]
  },
  {
   "cell_type": "code",
   "execution_count": 101,
   "id": "897db2d1-5d32-417b-8db4-85cb558ce70f",
   "metadata": {},
   "outputs": [],
   "source": [
    "class utils:\n",
    "    def get_all_gen_polynomails(R, I) -> []:\n",
    "\n",
    "        fact = list(I.factor())\n",
    "\n",
    "        combinations = []\n",
    "        \n",
    "        for i in range(1, len(fact) + 1):\n",
    "           combinations.append(list(itertools.combinations(fact, i)))\n",
    "\n",
    "        res = []\n",
    "        for comb in combinations:\n",
    "            for g in comb:\n",
    "                polyn = 1\n",
    "                for i in range(len(g)):\n",
    "                    polyn *= g[i][0]\n",
    "                res.append(polyn)\n",
    "\n",
    "        return res\n",
    "\n",
    "    def is_gen_polynomail(f, g):\n",
    "        return ((f / g).denominator() == 1)\n",
    "\n",
    "    def get_check_polynomial(g, mod):\n",
    "        h = mod / g\n",
    "\n",
    "        if h.denominator() != 1:\n",
    "            raise Exception('g is not a divisor of mod!')\n",
    "            return\n",
    "        return h.numerator()\n",
    "\n",
    "    def get_gen_matrix(g, n):\n",
    "\n",
    "        r = g.degree()\n",
    "        coeffs = g.coefficients(sparse=false)\n",
    "\n",
    "        matr = []\n",
    "        offset = 0\n",
    "        for i in range(n - r):\n",
    "\n",
    "            row = [0] * offset\n",
    "            row.extend(coeffs)\n",
    "            row.extend([0] * (n - r - 1 - offset))\n",
    "\n",
    "            \n",
    "            matr.append(row)\n",
    "            offset += 1\n",
    "\n",
    "        return matr\n",
    "\n",
    "    def get_check_matrix(h, n):\n",
    "\n",
    "        reversed = utils.get_gen_matrix(h.numerator(), n)\n",
    "        for reversed_row in reversed:\n",
    "            reversed_row.reverse()\n",
    "\n",
    "        reversed.reverse()\n",
    "        return reversed\n",
    "        \n",
    "        \n",
    "\n",
    "    def get_bch_code(q, m , t):\n",
    "        F = GF(q)\n",
    "        E.<a> = GF(q^m)\n",
    "\n",
    "        #Длина блока n\n",
    "        n = q ^ m - 1\n",
    "\n",
    "        #Для работы с полиномами над полем F\n",
    "        R.<x> = PolynomialRing(F, 'x') \n",
    "\n",
    "        #НОК минимальных многочленов для степеней примитивного элемента\n",
    "        g = lcm([s.minimal_polynomial() for s in [a ^ k for k in range(1, 2 * t + 1)]])\n",
    "\n",
    "        return codes.CyclicCode(generator_pol = g, length = q ^ m - 1)\n",
    "\n",
    "        \n"
   ]
  },
  {
   "cell_type": "markdown",
   "id": "c4ceff99-e62a-46b3-b6e1-89b0f9ef006e",
   "metadata": {},
   "source": [
    " ### Упражнение 2.1"
   ]
  },
  {
   "cell_type": "code",
   "execution_count": 109,
   "id": "ba0a1a80-54e4-4262-a71f-1833e16039a8",
   "metadata": {},
   "outputs": [
    {
     "name": "stdout",
     "output_type": "stream",
     "text": [
      "A)\n",
      "Gen polynomial:\n",
      " x^5 + x^2 + 1\n",
      "Gen matrix:\n",
      "[1 0 0 1 0 1 1 0 0 1 1 1 1 1 0 0 0 1 1 0 1 1 1 0 1 0 1 0 0 0 0]\n",
      "[0 1 0 0 1 0 1 1 0 0 1 1 1 1 1 0 0 0 1 1 0 1 1 1 0 1 0 1 0 0 0]\n",
      "[0 0 1 0 0 1 0 1 1 0 0 1 1 1 1 1 0 0 0 1 1 0 1 1 1 0 1 0 1 0 0]\n",
      "[0 0 0 1 0 0 1 0 1 1 0 0 1 1 1 1 1 0 0 0 1 1 0 1 1 1 0 1 0 1 0]\n",
      "[0 0 0 0 1 0 0 1 0 1 1 0 0 1 1 1 1 1 0 0 0 1 1 0 1 1 1 0 1 0 1]\n",
      "\n",
      "B)\n",
      "Gen polynomial:\n",
      " x^10 + x^9 + x^8 + x^6 + x^5 + x^3 + 1\n",
      "Gen matrix:\n",
      "[1 1 0 1 0 1 0 1 1 1 1 0 0 1 0 0 1 0 1 0 0 1 0 0 0 0 0 0 0 0 0]\n",
      "[0 1 1 0 1 0 1 0 1 1 1 1 0 0 1 0 0 1 0 1 0 0 1 0 0 0 0 0 0 0 0]\n",
      "[0 0 1 1 0 1 0 1 0 1 1 1 1 0 0 1 0 0 1 0 1 0 0 1 0 0 0 0 0 0 0]\n",
      "[0 0 0 1 1 0 1 0 1 0 1 1 1 1 0 0 1 0 0 1 0 1 0 0 1 0 0 0 0 0 0]\n",
      "[0 0 0 0 1 1 0 1 0 1 0 1 1 1 1 0 0 1 0 0 1 0 1 0 0 1 0 0 0 0 0]\n",
      "[0 0 0 0 0 1 1 0 1 0 1 0 1 1 1 1 0 0 1 0 0 1 0 1 0 0 1 0 0 0 0]\n",
      "[0 0 0 0 0 0 1 1 0 1 0 1 0 1 1 1 1 0 0 1 0 0 1 0 1 0 0 1 0 0 0]\n",
      "[0 0 0 0 0 0 0 1 1 0 1 0 1 0 1 1 1 1 0 0 1 0 0 1 0 1 0 0 1 0 0]\n",
      "[0 0 0 0 0 0 0 0 1 1 0 1 0 1 0 1 1 1 1 0 0 1 0 0 1 0 1 0 0 1 0]\n",
      "[0 0 0 0 0 0 0 0 0 1 1 0 1 0 1 0 1 1 1 1 0 0 1 0 0 1 0 1 0 0 1]\n",
      "\n",
      "C)\n",
      "Gen polynomial:\n",
      " x^15 + x^11 + x^10 + x^9 + x^8 + x^7 + x^5 + x^3 + x^2 + x + 1\n",
      "Gen matrix:\n",
      "[1 0 0 0 1 1 1 1 0 0 0 0 1 0 0 1 1 0 0 0 0 0 0 0 0 0 0 0 0 0 0]\n",
      "[0 1 0 0 0 1 1 1 1 0 0 0 0 1 0 0 1 1 0 0 0 0 0 0 0 0 0 0 0 0 0]\n",
      "[0 0 1 0 0 0 1 1 1 1 0 0 0 0 1 0 0 1 1 0 0 0 0 0 0 0 0 0 0 0 0]\n",
      "[0 0 0 1 0 0 0 1 1 1 1 0 0 0 0 1 0 0 1 1 0 0 0 0 0 0 0 0 0 0 0]\n",
      "[0 0 0 0 1 0 0 0 1 1 1 1 0 0 0 0 1 0 0 1 1 0 0 0 0 0 0 0 0 0 0]\n",
      "[0 0 0 0 0 1 0 0 0 1 1 1 1 0 0 0 0 1 0 0 1 1 0 0 0 0 0 0 0 0 0]\n",
      "[0 0 0 0 0 0 1 0 0 0 1 1 1 1 0 0 0 0 1 0 0 1 1 0 0 0 0 0 0 0 0]\n",
      "[0 0 0 0 0 0 0 1 0 0 0 1 1 1 1 0 0 0 0 1 0 0 1 1 0 0 0 0 0 0 0]\n",
      "[0 0 0 0 0 0 0 0 1 0 0 0 1 1 1 1 0 0 0 0 1 0 0 1 1 0 0 0 0 0 0]\n",
      "[0 0 0 0 0 0 0 0 0 1 0 0 0 1 1 1 1 0 0 0 0 1 0 0 1 1 0 0 0 0 0]\n",
      "[0 0 0 0 0 0 0 0 0 0 1 0 0 0 1 1 1 1 0 0 0 0 1 0 0 1 1 0 0 0 0]\n",
      "[0 0 0 0 0 0 0 0 0 0 0 1 0 0 0 1 1 1 1 0 0 0 0 1 0 0 1 1 0 0 0]\n",
      "[0 0 0 0 0 0 0 0 0 0 0 0 1 0 0 0 1 1 1 1 0 0 0 0 1 0 0 1 1 0 0]\n",
      "[0 0 0 0 0 0 0 0 0 0 0 0 0 1 0 0 0 1 1 1 1 0 0 0 0 1 0 0 1 1 0]\n",
      "[0 0 0 0 0 0 0 0 0 0 0 0 0 0 1 0 0 0 1 1 1 1 0 0 0 0 1 0 0 1 1]\n"
     ]
    }
   ],
   "source": [
    "m = 5\n",
    "q = 2\n",
    "\n",
    "print('A)')\n",
    "\n",
    "C = utils.get_bch_code(q, m, 1)\n",
    "print('Gen polynomial:\\n', C.generator_polynomial())\n",
    "print('Gen matrix:')\n",
    "print(C.parity_check_matrix())\n",
    "\n",
    "\n",
    "print('\\nB)')\n",
    "\n",
    "C = utils.get_bch_code(q, m, 2)\n",
    "print('Gen polynomial:\\n', C.generator_polynomial())\n",
    "print('Gen matrix:')\n",
    "print(C.parity_check_matrix())\n",
    "\n",
    "print('\\nC)')\n",
    "\n",
    "C = utils.get_bch_code(q, m, 3)\n",
    "print('Gen polynomial:\\n', C.generator_polynomial())\n",
    "print('Gen matrix:')\n",
    "print(C.parity_check_matrix())\n"
   ]
  },
  {
   "cell_type": "markdown",
   "id": "a420dcca-bf41-48e1-8c55-ea73e64f33d3",
   "metadata": {},
   "source": [
    " ### Упражнение 2.2"
   ]
  },
  {
   "cell_type": "code",
   "execution_count": 59,
   "id": "028bf74b-e824-4112-a42f-230e69dc037b",
   "metadata": {},
   "outputs": [
    {
     "name": "stdout",
     "output_type": "stream",
     "text": [
      "A)\n",
      "all gen polynomials of cylcic code with length = 7:\n",
      "g(x) = x + 1\n",
      "g(x) = x^3 + x + 1\n",
      "g(x) = x^3 + x^2 + 1\n",
      "g(x) = x^4 + x^3 + x^2 + 1\n",
      "g(x) = x^4 + x^2 + x + 1\n",
      "g(x) = x^6 + x^5 + x^4 + x^3 + x^2 + x + 1\n",
      "g(x) = x^7 + 1\n",
      "\n",
      "B)\n",
      "False\n",
      "\n",
      "C)\n",
      "[[1, 1, 0, 0, 0, 0, 0], [0, 1, 1, 0, 0, 0, 0], [0, 0, 1, 1, 0, 0, 0], [0, 0, 0, 1, 1, 0, 0], [0, 0, 0, 0, 1, 1, 0], [0, 0, 0, 0, 0, 1, 1]]\n"
     ]
    }
   ],
   "source": [
    "import itertools\n",
    "\n",
    "R = PolynomialRing(GF(2), 'x')\n",
    "x = R.gen()\n",
    "\n",
    "f = x^7 - 1\n",
    "\n",
    "print('A)')\n",
    "print(f'all gen polynomials of cylcic code with length = {7}:')\n",
    "gen_polynoms = utils.get_all_gen_polynomails(R, f)\n",
    "\n",
    "for polyn in gen_polynoms:\n",
    "    print(f'g(x) = {polyn}')\n",
    "\n",
    "print('\\nB)')\n",
    "print(utils.is_gen_polynomail(f, 1 + x^3 + x^4))\n",
    "\n",
    "print('\\nC)')\n",
    "print(utils.get_gen_matrix(1 + x, 7))\n",
    "    "
   ]
  },
  {
   "cell_type": "markdown",
   "id": "88ec5daa-ff94-4ccb-936d-906f73449b2d",
   "metadata": {},
   "source": [
    " ### Упражнение 2.3\n"
   ]
  },
  {
   "cell_type": "code",
   "execution_count": 14,
   "id": "014d37c7-8d6a-4d83-bcd8-d5db0647ac55",
   "metadata": {},
   "outputs": [
    {
     "name": "stdout",
     "output_type": "stream",
     "text": [
      "all gen polynomials of cylcic code with params = (7, 4, 2):\n",
      "g(x) = x^3 + x + 1\n",
      "g(x) = x^3 + x^2 + 1\n"
     ]
    }
   ],
   "source": [
    "import itertools\n",
    "\n",
    "R = PolynomialRing(GF(2), 'x')\n",
    "x = R.gen()\n",
    "\n",
    "f = x^7 - 1\n",
    "\n",
    "print(f'all gen polynomials of cylcic code with params = ({7}, {4}, {2}):')\n",
    "gen_polynoms = utils.get_all_gen_polynomails(R, f)\n",
    "\n",
    "for polyn in gen_polynoms:\n",
    "    if polyn.degree() == 3:\n",
    "        print(f'g(x) = {polyn}')\n"
   ]
  },
  {
   "cell_type": "markdown",
   "id": "3f8963a2-ad55-4b18-8cb6-01845090804a",
   "metadata": {},
   "source": [
    " ### Упражнение 2.5"
   ]
  },
  {
   "cell_type": "code",
   "execution_count": 37,
   "id": "e43f0d37-211c-40c9-a989-5a92386cbb03",
   "metadata": {},
   "outputs": [
    {
     "name": "stdout",
     "output_type": "stream",
     "text": [
      "[7, 4] Cyclic Code over GF(2)\n",
      "[1 1 0 1 0 0 0]\n",
      "[0 1 1 0 1 0 0]\n",
      "[0 0 1 1 0 1 0]\n",
      "[0 0 0 1 1 0 1]\n",
      "message: (1, 0, 0, 1)\n",
      "encoded: (1, 1, 0, 0, 1, 0, 1)\n",
      "\n",
      "message: (1, 0, 1, 0)\n",
      "encoded: (1, 1, 1, 0, 0, 1, 0)\n"
     ]
    }
   ],
   "source": [
    "import itertools\n",
    "\n",
    "R = PolynomialRing(GF(2), 'x')\n",
    "x = R.gen()\n",
    "\n",
    "n = 7\n",
    "\n",
    "gen = x^3 + x + 1\n",
    "\n",
    "C = codes.CyclicCode(generator_pol=gen, length=n)\n",
    "\n",
    "print(C)\n",
    "print(C.generator_matrix())\n",
    "\n",
    "encoder = C.encoder()\n",
    "\n",
    "msg1 = vector(GF(2), [1, 0, 0, 1])\n",
    "print('message:', msg1)\n",
    "print('encoded:', encoder(msg1))\n",
    "\n",
    "print()\n",
    "\n",
    "msg2 = vector(GF(2), [1, 0, 1, 0])\n",
    "print('message:', msg2)\n",
    "print('encoded:', encoder(msg2))\n",
    "\n"
   ]
  },
  {
   "cell_type": "markdown",
   "id": "22ceca26-0d46-4a28-a2ca-db3c7484e606",
   "metadata": {},
   "source": [
    " ### Упражнение 2.6"
   ]
  },
  {
   "cell_type": "code",
   "execution_count": 103,
   "id": "da7f6a6d-d642-47e3-998d-c1f4d09f3e21",
   "metadata": {},
   "outputs": [
    {
     "name": "stdout",
     "output_type": "stream",
     "text": [
      "gen matrix of cyclic code with length 15 and gen polynomial x^4 + x^3 + 1\n",
      "[1, 0, 0, 1, 1, 0, 0, 0, 0, 0, 0, 0, 0, 0, 0]\n",
      "[0, 1, 0, 0, 1, 1, 0, 0, 0, 0, 0, 0, 0, 0, 0]\n",
      "[0, 0, 1, 0, 0, 1, 1, 0, 0, 0, 0, 0, 0, 0, 0]\n",
      "[0, 0, 0, 1, 0, 0, 1, 1, 0, 0, 0, 0, 0, 0, 0]\n",
      "[0, 0, 0, 0, 1, 0, 0, 1, 1, 0, 0, 0, 0, 0, 0]\n",
      "[0, 0, 0, 0, 0, 1, 0, 0, 1, 1, 0, 0, 0, 0, 0]\n",
      "[0, 0, 0, 0, 0, 0, 1, 0, 0, 1, 1, 0, 0, 0, 0]\n",
      "[0, 0, 0, 0, 0, 0, 0, 1, 0, 0, 1, 1, 0, 0, 0]\n",
      "[0, 0, 0, 0, 0, 0, 0, 0, 1, 0, 0, 1, 1, 0, 0]\n",
      "[0, 0, 0, 0, 0, 0, 0, 0, 0, 1, 0, 0, 1, 1, 0]\n",
      "[0, 0, 0, 0, 0, 0, 0, 0, 0, 0, 1, 0, 0, 1, 1]\n",
      "\n",
      "check matrix of cyclic code with length 15 and check polynomial x^11 + x^10 + x^9 + x^8 + x^6 + x^4 + x^3 + 1\n",
      "[1, 1, 1, 1, 0, 1, 0, 1, 1, 0, 0, 1, 0, 0, 0]\n",
      "[0, 1, 1, 1, 1, 0, 1, 0, 1, 1, 0, 0, 1, 0, 0]\n",
      "[0, 0, 1, 1, 1, 1, 0, 1, 0, 1, 1, 0, 0, 1, 0]\n",
      "[0, 0, 0, 1, 1, 1, 1, 0, 1, 0, 1, 1, 0, 0, 1]\n"
     ]
    }
   ],
   "source": [
    "R = PolynomialRing(GF(2), 'x')\n",
    "x = R.gen()\n",
    "\n",
    "gen = x^4 + x^3 + 1\n",
    "\n",
    "# find min cyclic code length with given gen polynomial\n",
    "for n in range(100):\n",
    "    if n != 0 and ((x^n - 1) / gen).denominator() == 1:\n",
    "        break\n",
    "    \n",
    "\n",
    "gen_matr = utils.get_gen_matrix(gen, n)\n",
    "print(f'gen matrix of cyclic code with length {n} and gen polynomial {gen}')\n",
    "for row in gen_matr:\n",
    "    print(row)\n",
    "\n",
    "check_pol = utils.get_check_polynomial(gen, x^n - 1)\n",
    "check_matr = utils.get_check_matrix(check_pol, n)\n",
    "print(f'\\ncheck matrix of cyclic code with length {n} and check polynomial {check_pol}')\n",
    "for row in check_matr:\n",
    "    print(row)\n",
    "\n"
   ]
  },
  {
   "cell_type": "code",
   "execution_count": null,
   "id": "e73437c5-9f2e-4e75-a567-d66153973479",
   "metadata": {},
   "outputs": [],
   "source": []
  },
  {
   "cell_type": "code",
   "execution_count": null,
   "id": "e8ce5469-06c4-4316-b142-5728b0fff72e",
   "metadata": {},
   "outputs": [],
   "source": []
  }
 ],
 "metadata": {
  "kernelspec": {
   "display_name": "SageMath 10.1",
   "language": "sage",
   "name": "sagemath"
  },
  "language_info": {
   "codemirror_mode": {
    "name": "ipython",
    "version": 3
   },
   "file_extension": ".py",
   "mimetype": "text/x-python",
   "name": "python",
   "nbconvert_exporter": "python",
   "pygments_lexer": "ipython3",
   "version": "3.11.5"
  }
 },
 "nbformat": 4,
 "nbformat_minor": 5
}
